{
 "cells": [
  {
   "cell_type": "code",
   "execution_count": 1,
   "id": "fbffc927",
   "metadata": {},
   "outputs": [
    {
     "name": "stdout",
     "output_type": "stream",
     "text": [
      "2002\n",
      "2013\n",
      "2019\n"
     ]
    }
   ],
   "source": [
    "import datetime\n",
    "\n",
    "for year in range(2000, 2023):\n",
    "    date = datetime.date(year, 12, 13)\n",
    "    if date.weekday() == 4: # 4 corresponds to Friday\n",
    "        print(year)"
   ]
  },
  {
   "cell_type": "code",
   "execution_count": null,
   "id": "4ab2642a",
   "metadata": {},
   "outputs": [],
   "source": []
  }
 ],
 "metadata": {
  "kernelspec": {
   "display_name": "Python 3 (ipykernel)",
   "language": "python",
   "name": "python3"
  },
  "language_info": {
   "codemirror_mode": {
    "name": "ipython",
    "version": 3
   },
   "file_extension": ".py",
   "mimetype": "text/x-python",
   "name": "python",
   "nbconvert_exporter": "python",
   "pygments_lexer": "ipython3",
   "version": "3.11.2"
  }
 },
 "nbformat": 4,
 "nbformat_minor": 5
}
